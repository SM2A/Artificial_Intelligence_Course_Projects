{
 "cells": [
  {
   "cell_type": "markdown",
   "source": [
    "<center style><h1>Computer Assignment 5 Phase 1</h1></center>\n",
    "<center style><h1>Neural Networks</h1></center>\n",
    "\n",
    "**In this assignment we are given some pictures in 10 different classes. We are about to classify these pictures\n",
    "using Feed Forward in Neural Networks.**\n",
    "\n",
    "## Review Data and PreProcess\n",
    "\n",
    "* Each pixel is having a value in range of 0 to 255\n",
    "* If we no scale our values we might face values with different measure scales and this can cause harm calculation"
   ],
   "metadata": {
    "collapsed": false
   }
  },
  {
   "cell_type": "code",
   "execution_count": 1,
   "outputs": [
    {
     "name": "stdout",
     "output_type": "stream",
     "text": [
      "[[[12 28 30]\n",
      "  [16 43 48]\n",
      "  [24 47 52]\n",
      "  ...\n",
      "  [32 32 39]\n",
      "  [36 35 36]\n",
      "  [35 34 36]]\n",
      "\n",
      " [[12 34 38]\n",
      "  [19 45 50]\n",
      "  [35 55 58]\n",
      "  ...\n",
      "  [38 35 37]\n",
      "  [39 35 38]\n",
      "  [37 35 38]]\n",
      "\n",
      " [[15 38 43]\n",
      "  [39 67 71]\n",
      "  [72 91 93]\n",
      "  ...\n",
      "  [39 37 39]\n",
      "  [41 36 39]\n",
      "  [39 36 39]]\n",
      "\n",
      " ...\n",
      "\n",
      " [[34 29 23]\n",
      "  [28 24 19]\n",
      "  [30 26 17]\n",
      "  ...\n",
      "  [ 0  0  0]\n",
      "  [ 0  0  0]\n",
      "  [ 0  0  0]]\n",
      "\n",
      " [[27 23 16]\n",
      "  [25 20 13]\n",
      "  [28 23 15]\n",
      "  ...\n",
      "  [ 0  0  0]\n",
      "  [ 0  0  0]\n",
      "  [ 0  0  0]]\n",
      "\n",
      " [[22 18 11]\n",
      "  [22 16 12]\n",
      "  [20 17 12]\n",
      "  ...\n",
      "  [ 0  0  0]\n",
      "  [ 0  0  0]\n",
      "  [ 0  0  0]]]\n",
      "Max = 216\n",
      "Min = 0\n"
     ]
    }
   ],
   "source": [
    "import cv2\n",
    "import random\n",
    "import pandas\n",
    "from sklearn.model_selection import train_test_split\n",
    "\n",
    "labels = pandas.read_csv('cifar_dataset/labels.csv')\n",
    "train, test = train_test_split(labels, test_size=0.2)\n",
    "\n",
    "choice = random.randint(0, len(train))\n",
    "img = cv2.imread(f'cifar_dataset/data/{train.iloc[choice].id}.png')\n",
    "print(img)\n",
    "print(f'Max = {img.max()}')\n",
    "print(f'Min = {img.min()}')"
   ],
   "metadata": {
    "collapsed": false,
    "pycharm": {
     "name": "#%%\n"
    }
   }
  },
  {
   "cell_type": "code",
   "execution_count": 2,
   "outputs": [
    {
     "data": {
      "text/plain": "<Figure size 432x288 with 2 Axes>",
      "image/png": "[encoded data removed]"
     },
     "metadata": {
      "needs_background": "light"
     },
     "output_type": "display_data"
    }
   ],
   "source": [
    "from matplotlib import pyplot as plot\n",
    "\n",
    "pictures = []\n",
    "categories = ['cat', 'horse']\n",
    "\n",
    "while len(categories) != 0:\n",
    "    rand_pic = random.randint(0, len(train))\n",
    "    l = str(train.iloc[rand_pic].label)\n",
    "    if l in categories:\n",
    "        pictures.append(rand_pic)\n",
    "        categories.remove(train.iloc[rand_pic].label)\n",
    "\n",
    "plot.figure()\n",
    "\n",
    "for i in range(2):\n",
    "    plot.subplot(1, 2, i + 1)\n",
    "    image = cv2.imread(f'cifar_dataset/data/{train.iloc[pictures[i]].id}.png')\n",
    "    plot.imshow(image)\n",
    "    plot.title(train.iloc[pictures[i]].label)\n",
    "\n",
    "plot.tight_layout()\n",
    "plot.show()"
   ],
   "metadata": {
    "collapsed": false,
    "pycharm": {
     "name": "#%%\n"
    }
   }
  },
  {
   "cell_type": "code",
   "execution_count": 3,
   "outputs": [
    {
     "data": {
      "text/plain": "<Figure size 432x288 with 2 Axes>",
      "image/png": "[encoded data removed]"
     },
     "metadata": {
      "needs_background": "light"
     },
     "output_type": "display_data"
    }
   ],
   "source": [
    "plot.figure()\n",
    "\n",
    "plot.subplot(1, 2, 1)\n",
    "bars = plot.bar(['Cat', 'Horse'], [train['label'].value_counts()['cat'], train['label'].value_counts()['horse']], color='c')\n",
    "plot.ylabel('Count')\n",
    "plot.title('Train')\n",
    "plot.grid()\n",
    "for bar in bars:\n",
    "    y_val = bar.get_height()\n",
    "    plot.text(bar.get_x() + 0.25, y_val + 1, y_val)\n",
    "\n",
    "plot.subplot(1, 2, 2)\n",
    "bars = plot.bar(['Cat', 'Horse'], [test['label'].value_counts()['cat'], test['label'].value_counts()['horse']], color='c')\n",
    "plot.ylabel('Count')\n",
    "plot.title('Test')\n",
    "plot.grid()\n",
    "for bar in bars:\n",
    "    y_val = bar.get_height()\n",
    "    plot.text(bar.get_x() + 0.25, y_val + 1, y_val)\n",
    "\n",
    "plot.tight_layout()\n",
    "plot.show()"
   ],
   "metadata": {
    "collapsed": false,
    "pycharm": {
     "name": "#%%\n"
    }
   }
  },
  {
   "cell_type": "code",
   "execution_count": 4,
   "outputs": [
    {
     "name": "stdout",
     "output_type": "stream",
     "text": [
      "[[[0.05555556 0.12962963 0.13888889]\n",
      "  [0.07407407 0.19907407 0.22222222]\n",
      "  [0.11111111 0.21759259 0.24074074]\n",
      "  ...\n",
      "  [0.14814815 0.14814815 0.18055556]\n",
      "  [0.16666667 0.16203704 0.16666667]\n",
      "  [0.16203704 0.15740741 0.16666667]]\n",
      "\n",
      " [[0.05555556 0.15740741 0.17592593]\n",
      "  [0.08796296 0.20833333 0.23148148]\n",
      "  [0.16203704 0.25462963 0.26851852]\n",
      "  ...\n",
      "  [0.17592593 0.16203704 0.1712963 ]\n",
      "  [0.18055556 0.16203704 0.17592593]\n",
      "  [0.1712963  0.16203704 0.17592593]]\n",
      "\n",
      " [[0.06944444 0.17592593 0.19907407]\n",
      "  [0.18055556 0.31018519 0.3287037 ]\n",
      "  [0.33333333 0.4212963  0.43055556]\n",
      "  ...\n",
      "  [0.18055556 0.1712963  0.18055556]\n",
      "  [0.18981481 0.16666667 0.18055556]\n",
      "  [0.18055556 0.16666667 0.18055556]]\n",
      "\n",
      " ...\n",
      "\n",
      " [[0.15740741 0.13425926 0.10648148]\n",
      "  [0.12962963 0.11111111 0.08796296]\n",
      "  [0.13888889 0.12037037 0.0787037 ]\n",
      "  ...\n",
      "  [0.         0.         0.        ]\n",
      "  [0.         0.         0.        ]\n",
      "  [0.         0.         0.        ]]\n",
      "\n",
      " [[0.125      0.10648148 0.07407407]\n",
      "  [0.11574074 0.09259259 0.06018519]\n",
      "  [0.12962963 0.10648148 0.06944444]\n",
      "  ...\n",
      "  [0.         0.         0.        ]\n",
      "  [0.         0.         0.        ]\n",
      "  [0.         0.         0.        ]]\n",
      "\n",
      " [[0.10185185 0.08333333 0.05092593]\n",
      "  [0.10185185 0.07407407 0.05555556]\n",
      "  [0.09259259 0.0787037  0.05555556]\n",
      "  ...\n",
      "  [0.         0.         0.        ]\n",
      "  [0.         0.         0.        ]\n",
      "  [0.         0.         0.        ]]]\n",
      "Max = 1.0\n",
      "Min = 0.0\n"
     ]
    }
   ],
   "source": [
    "import numpy\n",
    "\n",
    "def normalize_data(data):\n",
    "    return (data - numpy.min(data)) / (numpy.max(data) - numpy.min(data))\n",
    "\n",
    "\n",
    "img = normalize_data(img)\n",
    "print(img)\n",
    "print(f'Max = {img.max()}')\n",
    "print(f'Min = {img.min()}')"
   ],
   "metadata": {
    "collapsed": false,
    "pycharm": {
     "name": "#%%\n"
    }
   }
  }
 ],
 "metadata": {
  "kernelspec": {
   "display_name": "Python 3",
   "language": "python",
   "name": "python3"
  },
  "language_info": {
   "codemirror_mode": {
    "name": "ipython",
    "version": 2
   },
   "file_extension": ".py",
   "mimetype": "text/x-python",
   "name": "python",
   "nbconvert_exporter": "python",
   "pygments_lexer": "ipython2",
   "version": "2.7.6"
  }
 },
 "nbformat": 4,
 "nbformat_minor": 0
}
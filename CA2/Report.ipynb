{
 "cells": [
  {
   "cell_type": "markdown",
   "source": [
    "<center style><h1>Computer Assignment 2</h1></center>\n",
    "<center style><h1>Hands-on game and Minimax algorithm</h1></center>\n",
    "\n",
    "**In this computer assignment we will implement minimax algorithm to play checkers game and solve a Sudoku using\n",
    "genetic algorithms.**\n",
    "\n",
    "### Minimax Algorithm\n",
    "\n",
    "*Minimax Algorithm : In this algorithm two agent try to compete each other to win Checkers game. One agent tries to\n",
    "maximize it's point and another agent tries to minimize it's point*\n",
    "\n",
    "The game implemented as instructed. *Source files are available under Src/Game directory.*\n",
    "\n",
    "**Red Player Depth = 1 & White Player Depth = 1 :**\n",
    " Both agents only see their next move and choose from that next one, so in a very quick time game stuck in and infinite\n",
    "loop that both agents go back and force in same place.\n",
    "\n",
    "**Red Player Depth = 5 & White Player Depth = 2 :**\n",
    " In this case one agent has benefit over other agent. Red agent can see upto 5 next move so can decide to move the better\n",
    "way. Also this test took much longer time to execute.\n",
    "\n",
    "**Red Player Depth = 2 & White Player Depth = 5 :**\n",
    " We will see same result as previous test but vice versa.\n",
    "\n",
    "**Red Player Depth = 5 & White Player Depth = 5 :**\n",
    " By setting both agents tree depth to 5 we need very long time to execute game. Both aganets see their 5 next moves,\n",
    "so they can make a better move. At the end we will stuck in a loop witch both agents try to get more score."
   ],
   "metadata": {
    "collapsed": false
   }
  },
  {
   "cell_type": "code",
   "execution_count": null,
   "outputs": [],
   "source": [
    "## "
   ],
   "metadata": {
    "collapsed": false,
    "pycharm": {
     "name": "#%%\n"
    }
   }
  }
 ],
 "metadata": {
  "kernelspec": {
   "display_name": "Python 3",
   "language": "python",
   "name": "python3"
  },
  "language_info": {
   "codemirror_mode": {
    "name": "ipython",
    "version": 2
   },
   "file_extension": ".py",
   "mimetype": "text/x-python",
   "name": "python",
   "nbconvert_exporter": "python",
   "pygments_lexer": "ipython2",
   "version": "2.7.6"
  }
 },
 "nbformat": 4,
 "nbformat_minor": 0
}
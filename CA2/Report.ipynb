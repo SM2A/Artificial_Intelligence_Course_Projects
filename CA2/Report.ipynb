{
 "cells": [
  {
   "cell_type": "code",
   "execution_count": 6,
   "metadata": {
    "collapsed": true
   },
   "outputs": [
    {
     "ename": "ModuleNotFoundError",
     "evalue": "No module named 'checkers'",
     "output_type": "error",
     "traceback": [
      "\u001B[1;31m---------------------------------------------------------------------------\u001B[0m",
      "\u001B[1;31mModuleNotFoundError\u001B[0m                       Traceback (most recent call last)",
      "\u001B[1;32m~\\AppData\\Local\\Temp/ipykernel_5428/2572986589.py\u001B[0m in \u001B[0;36m<module>\u001B[1;34m\u001B[0m\n\u001B[1;32m----> 1\u001B[1;33m \u001B[1;32mimport\u001B[0m \u001B[0mSrc\u001B[0m\u001B[1;33m.\u001B[0m\u001B[0mGame\u001B[0m\u001B[1;33m.\u001B[0m\u001B[0mmain\u001B[0m \u001B[1;32mas\u001B[0m \u001B[0mcheckers_game\u001B[0m\u001B[1;33m\u001B[0m\u001B[1;33m\u001B[0m\u001B[0m\n\u001B[0m\u001B[0;32m      2\u001B[0m \u001B[1;33m\u001B[0m\u001B[0m\n\u001B[0;32m      3\u001B[0m \u001B[0mcheckers_game\u001B[0m\u001B[1;33m(\u001B[0m\u001B[1;33m)\u001B[0m\u001B[1;33m\u001B[0m\u001B[1;33m\u001B[0m\u001B[0m\n",
      "\u001B[1;32m~\\PycharmProjects\\AI_CA0\\CA2\\Src\\Game\\main.py\u001B[0m in \u001B[0;36m<module>\u001B[1;34m\u001B[0m\n\u001B[0;32m      1\u001B[0m \u001B[1;32mimport\u001B[0m \u001B[0mpygame\u001B[0m\u001B[1;33m\u001B[0m\u001B[1;33m\u001B[0m\u001B[0m\n\u001B[1;32m----> 2\u001B[1;33m \u001B[1;32mfrom\u001B[0m \u001B[0mcheckers\u001B[0m\u001B[1;33m.\u001B[0m\u001B[0mconstants\u001B[0m \u001B[1;32mimport\u001B[0m \u001B[0mWIDTH\u001B[0m\u001B[1;33m,\u001B[0m \u001B[0mHEIGHT\u001B[0m\u001B[1;33m,\u001B[0m \u001B[0mSQUARE_SIZE\u001B[0m\u001B[1;33m,\u001B[0m \u001B[0mRED\u001B[0m\u001B[1;33m,\u001B[0m \u001B[0mWHITE\u001B[0m\u001B[1;33m\u001B[0m\u001B[1;33m\u001B[0m\u001B[0m\n\u001B[0m\u001B[0;32m      3\u001B[0m \u001B[1;32mfrom\u001B[0m \u001B[0mcheckers\u001B[0m\u001B[1;33m.\u001B[0m\u001B[0mgame\u001B[0m \u001B[1;32mimport\u001B[0m \u001B[0mGame\u001B[0m\u001B[1;33m\u001B[0m\u001B[1;33m\u001B[0m\u001B[0m\n\u001B[0;32m      4\u001B[0m \u001B[1;32mfrom\u001B[0m \u001B[0mminimax\u001B[0m\u001B[1;33m.\u001B[0m\u001B[0mminimax\u001B[0m \u001B[1;32mimport\u001B[0m \u001B[0mminimax\u001B[0m\u001B[1;33m\u001B[0m\u001B[1;33m\u001B[0m\u001B[0m\n\u001B[0;32m      5\u001B[0m \u001B[1;33m\u001B[0m\u001B[0m\n",
      "\u001B[1;31mModuleNotFoundError\u001B[0m: No module named 'checkers'"
     ]
    }
   ],
   "source": [
    "import Src.Game.main as checkers_game\n",
    "\n",
    "checkers_game()"
   ]
  }
 ],
 "metadata": {
  "kernelspec": {
   "display_name": "Python 3",
   "language": "python",
   "name": "python3"
  },
  "language_info": {
   "codemirror_mode": {
    "name": "ipython",
    "version": 2
   },
   "file_extension": ".py",
   "mimetype": "text/x-python",
   "name": "python",
   "nbconvert_exporter": "python",
   "pygments_lexer": "ipython2",
   "version": "2.7.6"
  }
 },
 "nbformat": 4,
 "nbformat_minor": 0
}
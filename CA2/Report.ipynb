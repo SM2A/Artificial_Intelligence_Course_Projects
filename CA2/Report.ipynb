{
 "cells": [
  {
   "cell_type": "markdown",
   "metadata": {},
   "source": [
    "<center style><h1>Computer Assignment 2</h1></center>\n",
    "<center style><h1>Hands-on Minimax and Genetic algorithm</h1></center>\n",
    "\n",
    "**In this computer assignment we will implement minimax algorithm to play checkers game and solve a Sudoku using\n",
    "genetic algorithms.**\n",
    "\n",
    "### Minimax Algorithm\n",
    "\n",
    "*Minimax Algorithm : In this algorithm two agent try to compete each other to win Checkers game. One agent tries to\n",
    "maximize it's point and another agent tries to minimize it's point*\n",
    "\n",
    "The game implemented as instructed. *Source files are available under Src/Game directory.*\n",
    "\n",
    "**Red Player Depth = 1 & White Player Depth = 1 :**\n",
    " Both agents only see their next move and choose from that next one, so in a very quick time game stuck in and infinite\n",
    "loop that both agents go back and force in same place.\n",
    "\n",
    "**Red Player Depth = 5 & White Player Depth = 2 :**\n",
    " In this case one agent has benefit over other agent. Red agent can see upto 5 next move so can decide to move the better\n",
    "way. Also this test took much longer time to execute.\n",
    "\n",
    "**Red Player Depth = 2 & White Player Depth = 5 :**\n",
    " We will see same result as previous test but vice versa.\n",
    "\n",
    "**Red Player Depth = 5 & White Player Depth = 5 :**\n",
    " By setting both agents tree depth to 5 we need very long time to execute game. Both aganets see their 5 next moves,\n",
    "so they can make a better move. At the end we will stuck in a loop which both agents try to get more score."
   ]
  },
  {
   "cell_type": "markdown",
   "metadata": {
    "pycharm": {
     "name": "#%% md\n"
    }
   },
   "source": [
    "### Genetic Algorithm\n",
    "\n",
    "*Genetic Algorithm : Try solving a problems as same as nurture. Evolve over time and generations to reach your goal*\n",
    "\n",
    "This algorithm implemented by first defining Chromosome and Gene, then crossover chromosomes and mutate genes. I will\n",
    "describe each part in detail. *Source files are available under Src/Genetic directory.*\n",
    "\n",
    "**Chromosome :** A Chromosome is a Sudoku board. This Sudoku board can be true or not.\n",
    "\n",
    "**Gene :** A Gene is a Sudoku board cell which is a number between 1 and N. *N is size of Sudoku table.*\n",
    "\n",
    "**Initial Population :** I created a random initial population of size 200. This population is a set of chromosomes that\n",
    "initiated with random genes.\n",
    "\n",
    "**Fitness Function :** I define my fitness function in way that it return number of genes in correct place. Correct place\n",
    "is where there are no similar number to one that we are comparing in the same row and column and the corresponding square.\n",
    "The total number of genes in correct place will be my fitness factor. So it is obvious that N*N will be my goal chromosome\n",
    "that all genes are in correct place.\n",
    "\n",
    "**Crossover :** I do crossover to chromosome by randomly select each row from one of them to create a new chromosome.\n",
    "Doing this 200 times to populate my population size.\n",
    "\n",
    "**Mutation :** Each chromosome row is having 10% chance to mutate. If they are lucky i will generate two random numbers\n",
    "that corresponds to two column. If these two cells are empty in input Sudoku table, the genes will be swapped.\n",
    "\n",
    "**Genetic Algorithm :** After creating initial population and finding it's fitness factor we start generating each\n",
    "generation to find answer. It's done by selecting some elite chromosomes to use them as parents for crossover. Then we\n",
    "mutate each child and calculate fitness factor again. We do mentioned tasks untill we reach answer or we might stuck in\n",
    "loop.\n",
    "\n",
    "#### Questions\n",
    "\n",
    "1 - Sorting chromosomes by their fitness factor and picking highest ones.\n",
    "\n",
    "2 - Our board is done when all numbers are in correct place, so by having grater numbers in correct place we are closer.\n",
    "\n",
    "3 - Most of my next generation is created by crossover function, so I gave mutation a very small chance. It is also\n",
    "easy to proof because mutation function effects on results by very small margins.\n",
    "\n",
    "4 - In this case we are in our local maximum. In this case we evolve in wrong direction. One fix is to go back many\n",
    "generations and fix from origin which is not practical. Another way of fixing is to change one or more gene\n",
    "intentionally to make another way of evolution."
   ]
  }
 ],
 "metadata": {
  "kernelspec": {
   "display_name": "Python 3 (ipykernel)",
   "language": "python",
   "name": "python3"
  },
  "language_info": {
   "codemirror_mode": {
    "name": "ipython",
    "version": 3
   },
   "file_extension": ".py",
   "mimetype": "text/x-python",
   "name": "python",
   "nbconvert_exporter": "python",
   "pygments_lexer": "ipython3",
   "version": "3.8.5"
  }
 },
 "nbformat": 4,
 "nbformat_minor": 1
}

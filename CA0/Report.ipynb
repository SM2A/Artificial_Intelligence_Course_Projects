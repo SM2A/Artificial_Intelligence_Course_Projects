{
 "cells": [
  {
   "cell_type": "markdown",
   "metadata": {
    "pycharm": {
     "name": "#%% md\n"
    }
   },
   "source": [
    "<center style><h1>Computer Assignment 0 Report</h1></center>\n",
    "\n",
    "## part 1\n",
    "First we import pandas library then read .csv file and store it into a data frame.\n",
    "\n",
    "**head(n):** This function will returns n rows from begining of data frame.\n",
    "\n",
    "**tail(n):** This function will returns n rows from end of data frame.\n",
    "\n",
    "**describe(n):** This function will returns n statistics for about each column."
   ]
  },
  {
   "cell_type": "code",
   "execution_count": 59,
   "metadata": {
    "pycharm": {
     "name": "#%%\n"
    }
   },
   "outputs": [
    {
     "name": "stdout",
     "output_type": "stream",
     "text": [
      "head(n) :\n",
      "   Unnamed: 0  MODELYEAR   MAKE       MODEL VEHICLECLASS  ENGINESIZE  \\\n",
      "0           0       2014  ACURA         ILX      COMPACT         2.0   \n",
      "1           1       2014  ACURA         ILX      COMPACT         2.4   \n",
      "2           2       2014  ACURA  ILX HYBRID      COMPACT         1.5   \n",
      "3           3       2014  ACURA     MDX 4WD  SUV - SMALL         3.5   \n",
      "4           4       2014  ACURA     RDX AWD  SUV - SMALL         3.5   \n",
      "\n",
      "   CYLINDERS TRANSMISSION FUELTYPE  FUELCONSUMPTION_CITY  FUELCONSUMPTION_HWY  \\\n",
      "0        4.0          AS5        Z                   9.9                  6.7   \n",
      "1        4.0           M6        Z                  11.2                  7.7   \n",
      "2        4.0          AV7        Z                   6.0                  5.8   \n",
      "3        6.0          AS6        Z                  12.7                  9.1   \n",
      "4        6.0          AS6        Z                  12.1                  8.7   \n",
      "\n",
      "   FUELCONSUMPTION_COMB  FUELCONSUMPTION_COMB_MPG  CO2EMISSIONS  \n",
      "0                   8.5                        33         196.0  \n",
      "1                   9.6                        29         221.0  \n",
      "2                   5.9                        48         136.0  \n",
      "3                  11.1                        25           NaN  \n",
      "4                  10.6                        27         244.0  \n",
      "tail(n) :\n",
      "      Unnamed: 0  MODELYEAR   MAKE     MODEL    VEHICLECLASS  ENGINESIZE  \\\n",
      "1062        1062       2014  VOLVO  XC60 AWD     SUV - SMALL         3.0   \n",
      "1063        1063       2014  VOLVO  XC60 AWD     SUV - SMALL         3.2   \n",
      "1064        1064       2014  VOLVO  XC70 AWD     SUV - SMALL         3.0   \n",
      "1065        1065       2014  VOLVO  XC70 AWD     SUV - SMALL         3.2   \n",
      "1066        1066       2014  VOLVO  XC90 AWD  SUV - STANDARD         3.2   \n",
      "\n",
      "      CYLINDERS TRANSMISSION FUELTYPE  FUELCONSUMPTION_CITY  \\\n",
      "1062        6.0          AS6        X                  13.4   \n",
      "1063        6.0          AS6        X                  13.2   \n",
      "1064        6.0          AS6        X                  13.4   \n",
      "1065        6.0          AS6        X                  12.9   \n",
      "1066        6.0          AS6        X                  14.9   \n",
      "\n",
      "      FUELCONSUMPTION_HWY  FUELCONSUMPTION_COMB  FUELCONSUMPTION_COMB_MPG  \\\n",
      "1062                  9.8                  11.8                        24   \n",
      "1063                  9.5                  11.5                        25   \n",
      "1064                  9.8                  11.8                        24   \n",
      "1065                  9.3                  11.3                        25   \n",
      "1066                 10.2                  12.8                        22   \n",
      "\n",
      "      CO2EMISSIONS  \n",
      "1062         271.0  \n",
      "1063         264.0  \n",
      "1064         271.0  \n",
      "1065         260.0  \n",
      "1066         294.0  \n",
      "describe() :\n",
      "        Unnamed: 0  MODELYEAR   ENGINESIZE    CYLINDERS  FUELCONSUMPTION_CITY  \\\n",
      "count  1067.000000     1067.0  1040.000000  1033.000000           1067.000000   \n",
      "mean    533.000000     2014.0     3.324038     5.797677             13.296532   \n",
      "std     308.160672        0.0     1.411400     1.807262              4.101253   \n",
      "min       0.000000     2014.0     1.000000     3.000000              4.600000   \n",
      "25%     266.500000     2014.0     2.000000     4.000000             10.250000   \n",
      "50%     533.000000     2014.0     3.300000     6.000000             12.600000   \n",
      "75%     799.500000     2014.0     4.200000     8.000000             15.550000   \n",
      "max    1066.000000     2014.0     8.400000    12.000000             30.200000   \n",
      "\n",
      "       FUELCONSUMPTION_HWY  FUELCONSUMPTION_COMB  FUELCONSUMPTION_COMB_MPG  \\\n",
      "count          1067.000000           1067.000000               1067.000000   \n",
      "mean              9.474602             11.580881                 26.441425   \n",
      "std               2.794510              3.485595                  7.468702   \n",
      "min               4.900000              4.700000                 11.000000   \n",
      "25%               7.500000              9.000000                 21.000000   \n",
      "50%               8.800000             10.900000                 26.000000   \n",
      "75%              10.850000             13.350000                 31.000000   \n",
      "max              20.500000             25.800000                 60.000000   \n",
      "\n",
      "       CO2EMISSIONS  \n",
      "count    964.000000  \n",
      "mean     256.741701  \n",
      "std       63.265308  \n",
      "min      108.000000  \n",
      "25%      209.000000  \n",
      "50%      251.000000  \n",
      "75%      294.000000  \n",
      "max      437.000000  \n"
     ]
    }
   ],
   "source": [
    "import pandas\n",
    "initial_data = pandas.read_csv('FuelConsumptionCo2.csv')\n",
    "print(\"head(n) :\")\n",
    "print(initial_data.head(5))\n",
    "print(\"tail(n) :\")\n",
    "print(initial_data.tail(5))\n",
    "print(\"describe() :\")\n",
    "print(initial_data.describe())"
   ]
  },
  {
   "cell_type": "markdown",
   "metadata": {
    "pycharm": {
     "name": "#%% md\n"
    }
   },
   "source": [
    "## Part 2\n",
    "\n",
    "As we see FUELTYPE is not a numerical type so we assign numbers to each type:"
   ]
  },
  {
   "cell_type": "code",
   "execution_count": 60,
   "metadata": {
    "pycharm": {
     "name": "#%%\n"
    }
   },
   "outputs": [
    {
     "name": "stdout",
     "output_type": "stream",
     "text": [
      "<class 'pandas.core.frame.DataFrame'>\n",
      "RangeIndex: 1067 entries, 0 to 1066\n",
      "Data columns (total 14 columns):\n",
      " #   Column                    Non-Null Count  Dtype  \n",
      "---  ------                    --------------  -----  \n",
      " 0   Unnamed: 0                1067 non-null   int64  \n",
      " 1   MODELYEAR                 1067 non-null   int64  \n",
      " 2   MAKE                      1067 non-null   object \n",
      " 3   MODEL                     1058 non-null   object \n",
      " 4   VEHICLECLASS              1067 non-null   object \n",
      " 5   ENGINESIZE                1040 non-null   float64\n",
      " 6   CYLINDERS                 1033 non-null   float64\n",
      " 7   TRANSMISSION              1067 non-null   object \n",
      " 8   FUELTYPE                  996 non-null    object \n",
      " 9   FUELCONSUMPTION_CITY      1067 non-null   float64\n",
      " 10  FUELCONSUMPTION_HWY       1067 non-null   float64\n",
      " 11  FUELCONSUMPTION_COMB      1067 non-null   float64\n",
      " 12  FUELCONSUMPTION_COMB_MPG  1067 non-null   int64  \n",
      " 13  CO2EMISSIONS              964 non-null    float64\n",
      "dtypes: float64(6), int64(3), object(5)\n",
      "memory usage: 95.9+ KB\n",
      "None\n"
     ]
    }
   ],
   "source": [
    "print(initial_data.info())\n",
    "initial_data['FUELTYPE'] = initial_data['FUELTYPE'].astype('category').cat.codes\n",
    "#print(initial_data.to_string())\n"
   ]
  },
  {
   "cell_type": "markdown",
   "metadata": {},
   "source": [
    "## Part 3\n",
    "\n",
    "First we print number of NaN data in each column using number of rows subtract by number of not null data in each column.\n",
    "Then replace NaN data with mean value of each column.\n",
    "In the end we extract rows with NaN data in CO2EMITION column and store them in new data frame.\n",
    "Number of NaN data before replacing with mean value:"
   ]
  },
  {
   "cell_type": "code",
   "execution_count": 61,
   "metadata": {
    "pycharm": {
     "name": "#%%\n"
    }
   },
   "outputs": [
    {
     "name": "stdout",
     "output_type": "stream",
     "text": [
      "Unnamed: 0                    0\n",
      "MODELYEAR                     0\n",
      "MAKE                          0\n",
      "MODEL                         9\n",
      "VEHICLECLASS                  0\n",
      "ENGINESIZE                   27\n",
      "CYLINDERS                    34\n",
      "TRANSMISSION                  0\n",
      "FUELTYPE                      0\n",
      "FUELCONSUMPTION_CITY          0\n",
      "FUELCONSUMPTION_HWY           0\n",
      "FUELCONSUMPTION_COMB          0\n",
      "FUELCONSUMPTION_COMB_MPG      0\n",
      "CO2EMISSIONS                103\n",
      "dtype: int64\n"
     ]
    }
   ],
   "source": [
    "print(len(initial_data.index)-initial_data.count())\n",
    "initial_data['ENGINESIZE'].fillna(value=initial_data['ENGINESIZE'].mean(),inplace=True)\n",
    "initial_data['CYLINDERS'].fillna(value=initial_data['CYLINDERS'].mean(),inplace=True)\n",
    "nan_data = initial_data[initial_data.CO2EMISSIONS.isna()]"
   ]
  },
  {
   "cell_type": "markdown",
   "metadata": {
    "pycharm": {
     "name": "#%% md\n"
    }
   },
   "source": [
    "Number of NaN data after replacing with mean value:\n",
    "\n",
    "*MODEL column is not a numerical value so we cannot assign mean value to NaN data.*\n",
    "\n",
    "<span style=\"color:red\">some *Advantages and Disadvantages* </span>"
   ]
  },
  {
   "cell_type": "code",
   "execution_count": 62,
   "metadata": {
    "pycharm": {
     "name": "#%%\n"
    }
   },
   "outputs": [
    {
     "name": "stdout",
     "output_type": "stream",
     "text": [
      "Unnamed: 0                    0\n",
      "MODELYEAR                     0\n",
      "MAKE                          0\n",
      "MODEL                         9\n",
      "VEHICLECLASS                  0\n",
      "ENGINESIZE                    0\n",
      "CYLINDERS                     0\n",
      "TRANSMISSION                  0\n",
      "FUELTYPE                      0\n",
      "FUELCONSUMPTION_CITY          0\n",
      "FUELCONSUMPTION_HWY           0\n",
      "FUELCONSUMPTION_COMB          0\n",
      "FUELCONSUMPTION_COMB_MPG      0\n",
      "CO2EMISSIONS                103\n",
      "dtype: int64\n"
     ]
    }
   ],
   "source": [
    "print(len(initial_data.index)-initial_data.count())"
   ]
  },
  {
   "cell_type": "markdown",
   "source": [
    "## Part 4\n",
    "\n",
    "First we filter CO2EMISSIONS then calculate mean value."
   ],
   "metadata": {
    "collapsed": false
   }
  },
  {
   "cell_type": "code",
   "execution_count": 63,
   "outputs": [
    {
     "name": "stdout",
     "output_type": "stream",
     "text": [
      "CO2 Emotion < 240 : 10.03781902552204\n",
      "CO2 Emotion > 300 : 18.663255813953487\n",
      "Executed in 0.003997802734375 seconds\n"
     ]
    }
   ],
   "source": [
    "import time\n",
    "start = time.time()\n",
    "print(f\"CO2 Emotion < 240 : {initial_data[initial_data['CO2EMISSIONS'] < 240].FUELCONSUMPTION_CITY.mean()}\")\n",
    "print(f\"CO2 Emotion > 300 : {initial_data[initial_data['CO2EMISSIONS'] > 300].FUELCONSUMPTION_CITY.mean()}\")\n",
    "print(f\"Executed in {time.time() - start} seconds\")"
   ],
   "metadata": {
    "collapsed": false,
    "pycharm": {
     "name": "#%%\n"
    }
   }
  },
  {
   "cell_type": "markdown",
   "source": [
    "## Part 5\n",
    "\n",
    "As we can see, using loop will take longer time to execute.\n",
    "\n",
    "<span style=\"color:red\">some *Time results dont look correct* </span>"
   ],
   "metadata": {
    "collapsed": false
   }
  },
  {
   "cell_type": "code",
   "execution_count": 64,
   "outputs": [
    {
     "name": "stdout",
     "output_type": "stream",
     "text": [
      "CO2 Emotion < 240 : 10.037819025522042\n",
      "CO2 Emotion > 300 : 18.663255813953487\n",
      "Executed in 0.0019991397857666016 seconds\n"
     ]
    }
   ],
   "source": [
    "co2_240_sum = 0\n",
    "co2_240_count = 0\n",
    "co2_300_sum = 0\n",
    "co2_300_count = 0\n",
    "for index,row in initial_data.iterrows():\n",
    "    if row['CO2EMISSIONS'] < 240:\n",
    "        co2_240_sum += row['FUELCONSUMPTION_CITY']\n",
    "        co2_240_count += 1\n",
    "    elif row['CO2EMISSIONS'] > 300:\n",
    "        co2_300_sum += row['FUELCONSUMPTION_CITY']\n",
    "        co2_300_count += 1\n",
    "start = time.time()\n",
    "print(f\"CO2 Emotion < 240 : {co2_240_sum/co2_240_count}\")\n",
    "print(f\"CO2 Emotion > 300 : {co2_300_sum/co2_300_count}\")\n",
    "print(f\"Executed in {time.time() - start} seconds\")"
   ],
   "metadata": {
    "collapsed": false,
    "pycharm": {
     "name": "#%%\n"
    }
   }
  }
 ],
 "metadata": {
  "direction": "ltr",
  "kernelspec": {
   "display_name": "Python 3 (ipykernel)",
   "language": "python",
   "name": "python3"
  },
  "language_info": {
   "codemirror_mode": {
    "name": "ipython",
    "version": 3
   },
   "file_extension": ".py",
   "mimetype": "text/x-python",
   "name": "python",
   "nbconvert_exporter": "python",
   "pygments_lexer": "ipython3",
   "version": "3.8.5"
  }
 },
 "nbformat": 4,
 "nbformat_minor": 1
}
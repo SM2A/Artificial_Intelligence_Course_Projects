{
 "cells": [
  {
   "cell_type": "markdown",
   "metadata": {},
   "source": [
    "<center style><h1>Computer Assignment 3</h1></center>\n",
    "<center style><h1>Naive Bayes Classification</h1></center>\n",
    "\n",
    "**In this assignment we are about to analyze some *divar.ir* ads and predict each ad category using naive bayes\n",
    "classifier.**\n",
    "\n",
    "We have ads in Vehicles, Electronic Devices, Business, For the Home, Personal, and Leisure & Hobbies.\n",
    "\n",
    "## PreProcess\n",
    "\n",
    "We will use *hazm* library to process persian text in our dataset.\n",
    "\n",
    "In this preprocess we remove stop words and punctuation then use *hazm* to normalize and adjust spaces on title and\n",
    "description. Then we divide sentences into words and find word root, so we can process them independently.\n",
    "\n",
    "1 - In our text we might see a word in different forms, but they are from same root and can have same effect in our\n",
    "classification. Stemming will remove prefix and postfix of a word to find it's root, but Lemmatization except removing\n",
    "postfix and prefix of word, it will verify that root to be correct in meaning.\n",
    "\n",
    "In our case Lemmatization has better performance and increase accuracy."
   ]
  },
  {
   "cell_type": "code",
   "execution_count": 1,
   "metadata": {
    "pycharm": {
     "name": "#%%\n"
    }
   },
   "outputs": [
    {
     "data": {
      "text/html": [
       "<div>\n",
       "<style scoped>\n",
       "    .dataframe tbody tr th:only-of-type {\n",
       "        vertical-align: middle;\n",
       "    }\n",
       "\n",
       "    .dataframe tbody tr th {\n",
       "        vertical-align: top;\n",
       "    }\n",
       "\n",
       "    .dataframe thead th {\n",
       "        text-align: right;\n",
       "    }\n",
       "</style>\n",
       "<table border=\"1\" class=\"dataframe\">\n",
       "  <thead>\n",
       "    <tr style=\"text-align: right;\">\n",
       "      <th></th>\n",
       "      <th>title</th>\n",
       "      <th>description</th>\n",
       "      <th>categories</th>\n",
       "    </tr>\n",
       "  </thead>\n",
       "  <tbody>\n",
       "    <tr>\n",
       "      <th>0</th>\n",
       "      <td>[بلبل, خرما]</td>\n",
       "      <td>[عدد, بلبل, خرما, ماهه, جوجه, خودم, بزرگشون, د...</td>\n",
       "      <td>leisure-hobbies</td>\n",
       "    </tr>\n",
       "    <tr>\n",
       "      <th>1</th>\n",
       "      <td>[عینک, اسکی]</td>\n",
       "      <td>[عینک, اسکی, دبل, لنز, مارک, یو, وکس, نو, اصل,...</td>\n",
       "      <td>leisure-hobbies</td>\n",
       "    </tr>\n",
       "    <tr>\n",
       "      <th>2</th>\n",
       "      <td>[تکیه, سر, تویوتا, پرادو]</td>\n",
       "      <td>[پارچه, سالم, تمیز]</td>\n",
       "      <td>vehicles</td>\n",
       "    </tr>\n",
       "    <tr>\n",
       "      <th>3</th>\n",
       "      <td>[مجسمه, کریستال, ۲۴, ٪]</td>\n",
       "      <td>[مجسمه, دکوری, کریستال, بالرین, Rcr, ۲۴, ٪]</td>\n",
       "      <td>for-the-home</td>\n",
       "    </tr>\n",
       "    <tr>\n",
       "      <th>4</th>\n",
       "      <td>[کیف, ساک]</td>\n",
       "      <td>[تمیز]</td>\n",
       "      <td>personal</td>\n",
       "    </tr>\n",
       "    <tr>\n",
       "      <th>...</th>\n",
       "      <td>...</td>\n",
       "      <td>...</td>\n",
       "      <td>...</td>\n",
       "    </tr>\n",
       "    <tr>\n",
       "      <th>10195</th>\n",
       "      <td>[ان, هاش, ۸۵]</td>\n",
       "      <td>[چی, شرط, خشک, ۲۶۰, کار]</td>\n",
       "      <td>vehicles</td>\n",
       "    </tr>\n",
       "    <tr>\n",
       "      <th>10196</th>\n",
       "      <td>[۴۰۵, دوگانه, کارخانه, تمیز]</td>\n",
       "      <td>[فابریک, حلقه, لاستیک, ۲۰۵, نو, بیمه, یکسال, ت...</td>\n",
       "      <td>vehicles</td>\n",
       "    </tr>\n",
       "    <tr>\n",
       "      <th>10197</th>\n",
       "      <td>[بخاری, گازی, دودکش, پلار]</td>\n",
       "      <td>[بخاری, نو, تمیز, هستش, مشتری, واقعی, میام]</td>\n",
       "      <td>for-the-home</td>\n",
       "    </tr>\n",
       "    <tr>\n",
       "      <th>10198</th>\n",
       "      <td>[نر, کله, برنجی, چتر]</td>\n",
       "      <td>[سلام, دلیل, کمبود, واسباب, کشید#کش, کمترین, ق...</td>\n",
       "      <td>leisure-hobbies</td>\n",
       "    </tr>\n",
       "    <tr>\n",
       "      <th>10199</th>\n",
       "      <td>[پراید, ۱۱۱, سفید]</td>\n",
       "      <td>[پراید, ۱۱۱, se, سفید, مدل, ۹۳., درب, جلو, شاگ...</td>\n",
       "      <td>vehicles</td>\n",
       "    </tr>\n",
       "  </tbody>\n",
       "</table>\n",
       "<p>10200 rows × 3 columns</p>\n",
       "</div>"
      ],
      "text/plain": [
       "                              title  \\\n",
       "0                      [بلبل, خرما]   \n",
       "1                      [عینک, اسکی]   \n",
       "2         [تکیه, سر, تویوتا, پرادو]   \n",
       "3           [مجسمه, کریستال, ۲۴, ٪]   \n",
       "4                        [کیف, ساک]   \n",
       "...                             ...   \n",
       "10195                 [ان, هاش, ۸۵]   \n",
       "10196  [۴۰۵, دوگانه, کارخانه, تمیز]   \n",
       "10197    [بخاری, گازی, دودکش, پلار]   \n",
       "10198         [نر, کله, برنجی, چتر]   \n",
       "10199            [پراید, ۱۱۱, سفید]   \n",
       "\n",
       "                                             description       categories  \n",
       "0      [عدد, بلبل, خرما, ماهه, جوجه, خودم, بزرگشون, د...  leisure-hobbies  \n",
       "1      [عینک, اسکی, دبل, لنز, مارک, یو, وکس, نو, اصل,...  leisure-hobbies  \n",
       "2                                    [پارچه, سالم, تمیز]         vehicles  \n",
       "3            [مجسمه, دکوری, کریستال, بالرین, Rcr, ۲۴, ٪]     for-the-home  \n",
       "4                                                 [تمیز]         personal  \n",
       "...                                                  ...              ...  \n",
       "10195                           [چی, شرط, خشک, ۲۶۰, کار]         vehicles  \n",
       "10196  [فابریک, حلقه, لاستیک, ۲۰۵, نو, بیمه, یکسال, ت...         vehicles  \n",
       "10197        [بخاری, نو, تمیز, هستش, مشتری, واقعی, میام]     for-the-home  \n",
       "10198  [سلام, دلیل, کمبود, واسباب, کشید#کش, کمترین, ق...  leisure-hobbies  \n",
       "10199  [پراید, ۱۱۱, se, سفید, مدل, ۹۳., درب, جلو, شاگ...         vehicles  \n",
       "\n",
       "[10200 rows x 3 columns]"
      ]
     },
     "execution_count": 1,
     "metadata": {},
     "output_type": "execute_result"
    }
   ],
   "source": [
    "import pandas\n",
    "from hazm import *\n",
    "\n",
    "vehicle_frequency = {}\n",
    "electronic_frequency = {}\n",
    "business_frequency = {}\n",
    "home_frequency = {}\n",
    "personal_frequency = {}\n",
    "hobbies_frequency = {}\n",
    "\n",
    "category = ['vehicles', 'electronic-devices', 'businesses', 'for-the-home', 'personal', 'leisure-hobbies']\n",
    "frequency = [vehicle_frequency, electronic_frequency, business_frequency, home_frequency, personal_frequency,\n",
    "             hobbies_frequency]\n",
    "stop_word = (stopwords_list() + ['.', '،', '؛', '[', ']', '{', '}', '(', ')', '?', '!', ':', '\\\"', '\\'', '*', '/', '+',\n",
    "                                 '%', '#','-', '_', '\\r\\n', '\\n', '«', '»', '۹', '۸', '۷', '۶', '۵', '۴', '۳', '۲', '۱',\n",
    "\t\t\t\t\t\t\t\t '۰'])\n",
    "\n",
    "train_data = pandas.read_csv('Data/divar_train.csv')\n",
    "test_data = pandas.read_csv('Data/divar_test.csv')\n",
    "\n",
    "normalizer = Normalizer()\n",
    "lemmatizer = Lemmatizer()\n",
    "tokenizer = WordTokenizer()\n",
    "\n",
    "def text_pre_process(sentence):\n",
    "    text = normalizer.normalize(sentence)\n",
    "    text = tokenizer.tokenize(text)\n",
    "    words = [lemmatizer.lemmatize(word) for word in text if not (word in stop_word)]\n",
    "    return words\n",
    "\n",
    "def pre_process(data):\n",
    "    for i in range(len(data)):\n",
    "        data['title'][i] = text_pre_process(data['title'][i])\n",
    "        data['description'][i] = text_pre_process(data['description'][i])\n",
    "    return data\n",
    "\n",
    "\n",
    "train_data = pre_process(train_data)\n",
    "train_data"
   ]
  },
  {
   "cell_type": "code",
   "execution_count": 2,
   "metadata": {
    "pycharm": {
     "name": "#%%\n"
    }
   },
   "outputs": [
    {
     "data": {
      "text/html": [
       "<div>\n",
       "<style scoped>\n",
       "    .dataframe tbody tr th:only-of-type {\n",
       "        vertical-align: middle;\n",
       "    }\n",
       "\n",
       "    .dataframe tbody tr th {\n",
       "        vertical-align: top;\n",
       "    }\n",
       "\n",
       "    .dataframe thead th {\n",
       "        text-align: right;\n",
       "    }\n",
       "</style>\n",
       "<table border=\"1\" class=\"dataframe\">\n",
       "  <thead>\n",
       "    <tr style=\"text-align: right;\">\n",
       "      <th></th>\n",
       "      <th>title</th>\n",
       "      <th>description</th>\n",
       "      <th>categories</th>\n",
       "    </tr>\n",
       "  </thead>\n",
       "  <tbody>\n",
       "    <tr>\n",
       "      <th>0</th>\n",
       "      <td>[کیف, مجلس, نو]</td>\n",
       "      <td>[کیف, مجلس, نو, نو]</td>\n",
       "      <td>personal</td>\n",
       "    </tr>\n",
       "    <tr>\n",
       "      <th>1</th>\n",
       "      <td>[دیوار, کوب, نمد, تزیین]</td>\n",
       "      <td>[جهاز, عروس]</td>\n",
       "      <td>for-the-home</td>\n",
       "    </tr>\n",
       "    <tr>\n",
       "      <th>2</th>\n",
       "      <td>[تیکه, تمیز, سالم]</td>\n",
       "      <td>[کشو, مخفی, شیک]</td>\n",
       "      <td>for-the-home</td>\n",
       "    </tr>\n",
       "    <tr>\n",
       "      <th>3</th>\n",
       "      <td>[مودم]</td>\n",
       "      <td>[سلام, مودم, سالم, وسایل, دیگه, ب, کاشت#کار, ن...</td>\n",
       "      <td>electronic-devices</td>\n",
       "    </tr>\n",
       "    <tr>\n",
       "      <th>4</th>\n",
       "      <td>[۱۸, عددبوقلمون, قیمت, عمده]</td>\n",
       "      <td>[سلام, تعدای, بوقلمون, داشت#دار, جابه, فروش, ج...</td>\n",
       "      <td>leisure-hobbies</td>\n",
       "    </tr>\n",
       "    <tr>\n",
       "      <th>...</th>\n",
       "      <td>...</td>\n",
       "      <td>...</td>\n",
       "      <td>...</td>\n",
       "    </tr>\n",
       "    <tr>\n",
       "      <th>1795</th>\n",
       "      <td>[باسکول, ۳۰۰, کیلویی]</td>\n",
       "      <td>[سالمه, سالمه, بشرط, قیمت, نوش, داخل, بازار, ۶...</td>\n",
       "      <td>businesses</td>\n",
       "    </tr>\n",
       "    <tr>\n",
       "      <th>1796</th>\n",
       "      <td>[میز, مدیریت, کنفرانس]</td>\n",
       "      <td>[میز, مدیریت, کنفرانس, تمیز, سالم, خط, خش]</td>\n",
       "      <td>businesses</td>\n",
       "    </tr>\n",
       "    <tr>\n",
       "      <th>1797</th>\n",
       "      <td>[باند, aiwa]</td>\n",
       "      <td>[سالم, اسپیکر]</td>\n",
       "      <td>electronic-devices</td>\n",
       "    </tr>\n",
       "    <tr>\n",
       "      <th>1798</th>\n",
       "      <td>[عروس, هلند, مولد]</td>\n",
       "      <td>[عروس, هلند, جفت, ویک, تک, یه, جفت, دم, تخمه, ...</td>\n",
       "      <td>leisure-hobbies</td>\n",
       "    </tr>\n",
       "    <tr>\n",
       "      <th>1799</th>\n",
       "      <td>[ست, دستباف, دخترانه, یکساله, نو]</td>\n",
       "      <td>[ست, دخترانه, یکسال, نیم, میشه, کاردست, نو, نو...</td>\n",
       "      <td>personal</td>\n",
       "    </tr>\n",
       "  </tbody>\n",
       "</table>\n",
       "<p>1800 rows × 3 columns</p>\n",
       "</div>"
      ],
      "text/plain": [
       "                                  title  \\\n",
       "0                       [کیف, مجلس, نو]   \n",
       "1              [دیوار, کوب, نمد, تزیین]   \n",
       "2                    [تیکه, تمیز, سالم]   \n",
       "3                                [مودم]   \n",
       "4          [۱۸, عددبوقلمون, قیمت, عمده]   \n",
       "...                                 ...   \n",
       "1795              [باسکول, ۳۰۰, کیلویی]   \n",
       "1796             [میز, مدیریت, کنفرانس]   \n",
       "1797                       [باند, aiwa]   \n",
       "1798                 [عروس, هلند, مولد]   \n",
       "1799  [ست, دستباف, دخترانه, یکساله, نو]   \n",
       "\n",
       "                                            description          categories  \n",
       "0                                   [کیف, مجلس, نو, نو]            personal  \n",
       "1                                          [جهاز, عروس]        for-the-home  \n",
       "2                                      [کشو, مخفی, شیک]        for-the-home  \n",
       "3     [سلام, مودم, سالم, وسایل, دیگه, ب, کاشت#کار, ن...  electronic-devices  \n",
       "4     [سلام, تعدای, بوقلمون, داشت#دار, جابه, فروش, ج...     leisure-hobbies  \n",
       "...                                                 ...                 ...  \n",
       "1795  [سالمه, سالمه, بشرط, قیمت, نوش, داخل, بازار, ۶...          businesses  \n",
       "1796         [میز, مدیریت, کنفرانس, تمیز, سالم, خط, خش]          businesses  \n",
       "1797                                     [سالم, اسپیکر]  electronic-devices  \n",
       "1798  [عروس, هلند, جفت, ویک, تک, یه, جفت, دم, تخمه, ...     leisure-hobbies  \n",
       "1799  [ست, دخترانه, یکسال, نیم, میشه, کاردست, نو, نو...            personal  \n",
       "\n",
       "[1800 rows x 3 columns]"
      ]
     },
     "execution_count": 2,
     "metadata": {},
     "output_type": "execute_result"
    }
   ],
   "source": [
    "test = pre_process(test_data)\n",
    "test"
   ]
  },
  {
   "cell_type": "markdown",
   "metadata": {
    "pycharm": {
     "name": "#%% md\n"
    }
   },
   "source": [
    "## Process\n",
    "\n",
    "We use bag of word method for title and description separately to count words related to category.\n",
    "\n",
    "In classifier function we calculate probability of being in a class of each row. In this way, according to Bayes rule,\n",
    "we obtain the probability of each word from the columns, provided that they belong to the desired class, and multiply them.\n",
    "\n",
    "2 -\n",
    "* Evidence : By seeing evidence we want to calculate posterior probability.\n",
    "* Likelihood : Probability of having evidence in category c.\n",
    "* Prior : Probability of having category c in all rows of dataset.\n",
    "* Posterior : Probability of belonging word w to category c. We use this probability to classify."
   ]
  },
  {
   "cell_type": "code",
   "execution_count": 3,
   "metadata": {
    "pycharm": {
     "name": "#%%\n"
    }
   },
   "outputs": [],
   "source": [
    "d = 0\n",
    "\n",
    "def word_frequency(words, freq_dict):\n",
    "    for word in words:\n",
    "        if not (word in freq_dict):\n",
    "            freq_dict[word] = 1\n",
    "            global d\n",
    "            d += 1\n",
    "        else:\n",
    "            freq_dict[word] += 1\n",
    "    return freq_dict\n",
    "\n",
    "def calculate_frequency(train):\n",
    "    for i in range(len(frequency)):\n",
    "        for title in train.loc[train['categories'] == category[i], 'title']:\n",
    "            frequency[i] = word_frequency(title, frequency[i])\n",
    "\n",
    "        for description in train.loc[train['categories'] == category[i], 'description']:\n",
    "            frequency[i] = word_frequency(description, frequency[i])"
   ]
  },
  {
   "cell_type": "markdown",
   "metadata": {},
   "source": [
    "### Bigrams\n",
    "\n",
    "3 -\n",
    "* شیر حیوان درنده ای است\n",
    "\n",
    "* شیر نوشیدنی مقوی است\n",
    "\n",
    "In above examples the word 'شیر' is the same but with different meanings. With bigram and just by reading next word we\n",
    "can determine which 'شیر' do we mean. In this example we don't need more than bigram, if not, we need n-gram.\n",
    "\n",
    "### Additive Smoothing\n",
    "\n",
    "4 - If word w in our test dataset was not appeared in category c, probability of belonging to that category would be zero.\n",
    "In other word, the likelihood will be zero. With Naive Bayes keep in mind we multiply words probability so probability of\n",
    "belonging text t to category c would be zero.\n",
    "\n",
    "5 - In additive smoothing method if we see new word w in category c we assume small probability for this word belonging\n",
    "to category c using formula below:\n",
    "\n",
    "$$\n",
    "P_{i, \\alpha-smoothed} = \\frac{x_i + \\alpha}{N + \\alpha d}\n",
    "$$\n",
    "\n",
    "By assuming $\\alpha = 0$ we will get same result $P = 0$ , but if we set $\\alpha$ to some higher value, probability\n",
    "will not be zero."
   ]
  },
  {
   "cell_type": "code",
   "execution_count": 4,
   "metadata": {
    "pycharm": {
     "name": "#%%\n"
    }
   },
   "outputs": [],
   "source": [
    "from math import log\n",
    "\n",
    "prediction = []\n",
    "\n",
    "def additive_smoothing(freq, alpha, n):\n",
    "    return (freq + alpha) / (n + alpha * d)\n",
    "\n",
    "def classify(test_, alpha):\n",
    "    probability = [0] * len(frequency)\n",
    "    for i in range(len(test_)):\n",
    "        for f in range(len(frequency)):\n",
    "            prob = log(1 / 6)\n",
    "            for w in ['title', 'description']:\n",
    "                for word in test_[w][i]:\n",
    "                    count = 0\n",
    "                    if word in frequency[f]:\n",
    "                        count = frequency[f][word]\n",
    "                    new_probability = additive_smoothing(count, alpha, len(frequency[f]))\n",
    "                    if new_probability != 0:\n",
    "                        prob += log(new_probability)\n",
    "                    else:\n",
    "                        prob = 0\n",
    "            probability[f] = prob\n",
    "        index = probability.index(max(probability))\n",
    "        prediction.append(category[index])"
   ]
  },
  {
   "cell_type": "markdown",
   "metadata": {},
   "source": [
    "### Verifying\n",
    "\n",
    "6 - By watching results below we can remove words نو , سالم , تمیز , and فروش because it's very frequent among\n",
    "categories so it will not effect in category prediction."
   ]
  },
  {
   "cell_type": "code",
   "execution_count": 5,
   "metadata": {
    "pycharm": {
     "name": "#%%\n"
    }
   },
   "outputs": [
    {
     "data": {
      "image/png": "[encoded data removed]",
      "text/plain": [
       "<Figure size 1080x720 with 6 Axes>"
      ]
     },
     "metadata": {
      "needs_background": "light"
     },
     "output_type": "display_data"
    }
   ],
   "source": [
    "import matplotlib.pyplot as plot\n",
    "\n",
    "calculate_frequency(train_data)\n",
    "\n",
    "plot.figure(figsize=(15,10))\n",
    "\n",
    "for i in range(6):\n",
    "    plot.subplot(2, 3, i + 1)\n",
    "    sort = sorted(frequency[i].items(), key=lambda x: x[1], reverse=True)\n",
    "    most_freq = sort[0:5]\n",
    "    cat = []\n",
    "    values = []\n",
    "    for item in most_freq:\n",
    "        cat.append(item[0])\n",
    "        values.append(item[1])\n",
    "\n",
    "    plot.bar(cat, values, color='orange', width=0.5)\n",
    "    plot.ylabel('Frequency')\n",
    "    plot.title(category[i])\n",
    "    plot.grid()\n",
    "\n",
    "plot.tight_layout()\n",
    "plot.show()"
   ]
  },
  {
   "cell_type": "markdown",
   "metadata": {},
   "source": [
    "## Evaluation\n",
    "\n",
    "Now we use classify function that we written before to predict category of our test dataset, then use evaluate function\n",
    "to compare predicted category with real mentioned category and calculate evaluation parameters.\n",
    "\n",
    "7 -\n",
    "* Precision : This parameter defines ratio of count of prediction of category c to actual count of actual data in\n",
    "category c.\n",
    "* Recall : Ratio of correct prediction of system for category c.\n",
    "\n",
    "For example if we predict all ads are business we have hight recall value but our system not working correct.\n",
    "\n",
    "On the other hand if our system is very definite that some ad is in category business we have high precision. In this\n",
    "case we might miss predict many ads or only predict business category and place other ads in other categories.\n",
    "\n",
    "8 - F1 uses harmonic mean wich is a kind of geometric mean and it's also dependent on FP and FN so it's good benchmark.\n",
    "\n",
    "9 -\n",
    "* Macro : In macro-F1 we average from 6 values of 6 categories.\n",
    "* Micro : We consider all data together. micro-f1 = micro-precision = micro-recall = accuracy\n",
    "* Weighted : Depending on the number of parameters, we assign a weight to each value. Find the number of classes and\n",
    "multiply by corresponding F1, then divide the sum of the obtained values by the total number.\n",
    "\n",
    "10 -\n",
    "A) Fro additive smothing we set $\\alpha = 0.2$"
   ]
  },
  {
   "cell_type": "code",
   "execution_count": 6,
   "metadata": {
    "pycharm": {
     "name": "#%%\n"
    }
   },
   "outputs": [
    {
     "name": "stdout",
     "output_type": "stream",
     "text": [
      "vehicles : Precision =  90.81967213114754  Recall =  92.33333333333333  F1 =  91.57024793388429\n",
      "electronic-devices : Precision =  90.84967320261438  Recall =  92.66666666666666  F1 =  91.74917491749174\n",
      "businesses : Precision =  77.491961414791  Recall =  80.33333333333333  F1 =  78.88707037643206\n",
      "for-the-home : Precision =  85.23489932885906  Recall =  84.66666666666667  F1 =  84.94983277591973\n",
      "personal : Precision =  88.23529411764706  Recall =  90.0  F1 =  89.1089108910891\n",
      "leisure-hobbies : Precision =  92.7007299270073  Recall =  84.66666666666667  F1 =  88.50174216027875\n",
      "Accuracy =  87.44444444444444\n",
      "macroF1 =  87.46116317584926\n"
     ]
    }
   ],
   "source": [
    "def evaluate(test_):\n",
    "    correct_detected = 0\n",
    "    total = len(test_)\n",
    "    precision = [0.0] * len(category)\n",
    "    recall = [0.0] * len(category)\n",
    "    f_1 = [0.0] * len(category)\n",
    "    correct_detected_class = [0] * len(category)\n",
    "    all_detected_class = [0] * len(category)\n",
    "    total_class = [0] * len(category)\n",
    "\n",
    "    counter = 0\n",
    "    x = []\n",
    "\n",
    "    for ads in range(len(test_)):\n",
    "        if test_['categories'][ads] == test_['predicted'][ads]:\n",
    "            correct_detected += 1\n",
    "        elif counter < 5:\n",
    "            counter += 1\n",
    "            x.append(ads)\n",
    "        for i in range(len(category)):\n",
    "            if test_['predicted'][ads] == category[i] and test_['categories'][ads] == category[i]:\n",
    "                correct_detected_class[i] += 1\n",
    "            if test_['predicted'][ads] == category[i]:\n",
    "                all_detected_class[i] += 1\n",
    "            if test_['categories'][ads] == category[i]:\n",
    "                total_class[i] += 1\n",
    "\n",
    "    accuracy = correct_detected / total * 100\n",
    "    macro_f1 = 0\n",
    "    for i in range(len(category)):\n",
    "        precision[i] = (correct_detected_class[i] / all_detected_class[i]) * 100\n",
    "        recall[i] = (correct_detected_class[i] / total_class[i]) * 100\n",
    "        f_1[i] = (2 * precision[i] * recall[i]) / (precision[i] + recall[i])\n",
    "        macro_f1 += f_1[i]\n",
    "        print(category[i], ': Precision = ', precision[i], ' Recall = ', recall[i], ' F1 = ', f_1[i])\n",
    "    print(\"Accuracy = \", accuracy)\n",
    "    print(\"macroF1 = \", macro_f1 / 6)\n",
    "    return x\n",
    "\n",
    "\n",
    "classify(test, alpha=0.2)\n",
    "test['predicted'] = prediction\n",
    "ev_additive = evaluate(test)"
   ]
  },
  {
   "cell_type": "markdown",
   "metadata": {},
   "source": [
    "B) As we mentioned before if we set $\\alpha = 0$ we get same result as we didn't applied additive smoothing."
   ]
  },
  {
   "cell_type": "code",
   "execution_count": 7,
   "metadata": {
    "pycharm": {
     "name": "#%%\n"
    }
   },
   "outputs": [
    {
     "name": "stdout",
     "output_type": "stream",
     "text": [
      "vehicles : Precision =  8.623298033282904  Recall =  19.0  F1 =  11.86264308012487\n",
      "electronic-devices : Precision =  8.786610878661087  Recall =  7.000000000000001  F1 =  7.792207792207793\n",
      "businesses : Precision =  17.341040462427745  Recall =  10.0  F1 =  12.684989429175475\n",
      "for-the-home : Precision =  7.78816199376947  Recall =  8.333333333333332  F1 =  8.051529790660224\n",
      "personal : Precision =  12.213740458015266  Recall =  10.666666666666668  F1 =  11.387900355871887\n",
      "leisure-hobbies : Precision =  19.444444444444446  Recall =  9.333333333333334  F1 =  12.612612612612615\n",
      "Accuracy =  10.722222222222221\n",
      "macroF1 =  10.731980510108812\n"
     ]
    }
   ],
   "source": [
    "prediction = []\n",
    "\n",
    "classify(test, alpha=0)\n",
    "test['predicted'] = prediction\n",
    "ev = evaluate(test)"
   ]
  },
  {
   "cell_type": "markdown",
   "metadata": {},
   "source": [
    "11 - We can clearly see by applying additive smoothing we get much higher accuracy.\n",
    "\n",
    "12 - Here are 5 ads that we predict incorrectly."
   ]
  },
  {
   "cell_type": "code",
   "execution_count": 8,
   "metadata": {
    "pycharm": {
     "name": "#%%\n"
    }
   },
   "outputs": [
    {
     "name": "stdout",
     "output_type": "stream",
     "text": [
      "16 : Title = ['سیپوراکس'] | Description = ['سیپوراکس', 'میکرو', 'مک', 'جی', 'ال', 'سرامیک', 'سرا', 'کاهنده', 'نیترات', 'نیتریت', 'اکواریوم', 'درجه'] | Category = leisure-hobbies | Predict = businesses\n",
      "27 : Title = ['عینک', 'آفتاب'] | Description = ['عینک', 'آفتاب', '١٠٠', '٪\\u200f', 'UV', 'Protection'] | Category = personal | Predict = vehicles\n",
      "28 : Title = ['موتور', 'تزیین'] | Description = ['جنس', 'اهن', 'کار', 'دست', 'عرضه', 'صورت', 'عمده', 'تک'] | Category = for-the-home | Predict = personal\n",
      "49 : Title = ['اچارشلاقی', 'HEYCOالمان'] | Description = ['اصل', 'المان', 'سایز', '۱/۵', 'مقاوم'] | Category = businesses | Predict = electronic-devices\n",
      "50 : Title = ['فروش', 'تلفکس'] | Description = ['سلام', 'تلفکس', 'پاناسونیک', 'تمیز', 'کار'] | Category = businesses | Predict = businesses\n"
     ]
    }
   ],
   "source": [
    "for ad in ev_additive:\n",
    "    title = test['title'][ad]\n",
    "    description = test['description'][ad]\n",
    "    cat_ = test['categories'][ad]\n",
    "    predict = test['predicted'][ad]\n",
    "    print(f'{ad} : Title = {title} | Description = {description} | Category = {cat_} | Predict = {predict}')"
   ]
  }
 ],
 "metadata": {
  "kernelspec": {
   "display_name": "Python 3 (ipykernel)",
   "language": "python",
   "name": "python3"
  },
  "language_info": {
   "codemirror_mode": {
    "name": "ipython",
    "version": 3
   },
   "file_extension": ".py",
   "mimetype": "text/x-python",
   "name": "python",
   "nbconvert_exporter": "python",
   "pygments_lexer": "ipython3",
   "version": "3.8.5"
  }
 },
 "nbformat": 4,
 "nbformat_minor": 1
}

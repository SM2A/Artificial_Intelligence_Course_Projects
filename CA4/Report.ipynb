{
 "cells": [
  {
   "cell_type": "markdown",
   "source": [
    "<center style><h1>Computer Assignment 4</h1></center>\n",
    "<center style><h1>Machine Learning Introduction</h1></center>\n",
    "\n",
    "**In this assignment we are about to use Sickit-Learn library to learn Machine Learning. We are given a dataset about\n",
    "movies and tv shows and we are going to predict their genre..**\n",
    "\n",
    "## Review Data\n",
    "\n",
    "We use pandas library to have an overview of our dataset.\n",
    "\n",
    "Our only numeral data is release data which we described.\n",
    "\n",
    "Around 24% of countries and 12% of casts are not available."
   ],
   "metadata": {
    "collapsed": false
   }
  },
  {
   "cell_type": "code",
   "execution_count": 1,
   "outputs": [
    {
     "data": {
      "text/plain": "          type                  title  \\\n0        Movie   Dick Johnson Is Dead   \n1      TV Show          Blood & Water   \n2      TV Show              Ganglands   \n3      TV Show  Jailbirds New Orleans   \n4      TV Show           Kota Factory   \n...        ...                    ...   \n11054  TV Show       X-Men: Evolution   \n11055  TV Show              Smart Guy   \n11056  TV Show   Disney Kirby Buckets   \n11057  TV Show         Disney Mech-X4   \n11058  TV Show     Imagination Movers   \n\n                                                    cast        country  \\\n0                                                    NaN  United States   \n1      Ama Qamata, Khosi Ngema, Gail Mabalane, Thaban...   South Africa   \n2      Sami Bouajila, Tracy Gotoas, Samuel Jouy, Nabi...            NaN   \n3                                                    NaN            NaN   \n4      Mayur More, Jitendra Kumar, Ranjan Raj, Alam K...          India   \n...                                                  ...            ...   \n11054  Noel Fisher, Vincent Gale, Christopher Judge, ...  United States   \n11055  Tahj Mowry, John Jones, Jason Weaver, Essence ...  United States   \n11056  Jacob Bertrand, Mekai Curtis, Cade Sutton, Oli...  United States   \n11057  Nathaniel Potvin, Raymond Cham, Kamran Lucas, ...         Canada   \n11058  Rich Collins, Dave Poche, Scott Durbin, Scott ...  United States   \n\n       release_year                                          listed_in  \\\n0              2020                                      Documentaries   \n1              2021    International TV Shows, TV Dramas, TV Mysteries   \n2              2021  Crime TV Shows, International TV Shows, TV Act...   \n3              2021                             Docuseries, Reality TV   \n4              2021  International TV Shows, Romantic TV Shows, TV ...   \n...             ...                                                ...   \n11054          2000                  Action-Adventure, Animation, Kids   \n11055          1996                        Comedy, Coming of Age, Kids   \n11056          2014            Action-Adventure, Comedy, Coming of Age   \n11057          2016          Action-Adventure, Comedy, Science Fiction   \n11058          2008                                        Kids, Music   \n\n                                             description  \n0      As her father nears the end of his life, filmm...  \n1      After crossing paths at a party, a Cape Town t...  \n2      To protect his family from a powerful drug lor...  \n3      Feuds, flirtations and toilet talk go down amo...  \n4      In a city of coaching centers known to train I...  \n...                                                  ...  \n11054  X-Men: Evolution features the team as teenager...  \n11055  A genius tries to fit in as a high school soph...  \n11056   Welcome to Kirby's world! It's rude and sketchy.  \n11057  Ryan discovers his ability to control a giant ...  \n11058  Rock out with the Imagination Movers, Disney J...  \n\n[11059 rows x 7 columns]",
      "text/html": "<div>\n<style scoped>\n    .dataframe tbody tr th:only-of-type {\n        vertical-align: middle;\n    }\n\n    .dataframe tbody tr th {\n        vertical-align: top;\n    }\n\n    .dataframe thead th {\n        text-align: right;\n    }\n</style>\n<table border=\"1\" class=\"dataframe\">\n  <thead>\n    <tr style=\"text-align: right;\">\n      <th></th>\n      <th>type</th>\n      <th>title</th>\n      <th>cast</th>\n      <th>country</th>\n      <th>release_year</th>\n      <th>listed_in</th>\n      <th>description</th>\n    </tr>\n  </thead>\n  <tbody>\n    <tr>\n      <th>0</th>\n      <td>Movie</td>\n      <td>Dick Johnson Is Dead</td>\n      <td>NaN</td>\n      <td>United States</td>\n      <td>2020</td>\n      <td>Documentaries</td>\n      <td>As her father nears the end of his life, filmm...</td>\n    </tr>\n    <tr>\n      <th>1</th>\n      <td>TV Show</td>\n      <td>Blood &amp; Water</td>\n      <td>Ama Qamata, Khosi Ngema, Gail Mabalane, Thaban...</td>\n      <td>South Africa</td>\n      <td>2021</td>\n      <td>International TV Shows, TV Dramas, TV Mysteries</td>\n      <td>After crossing paths at a party, a Cape Town t...</td>\n    </tr>\n    <tr>\n      <th>2</th>\n      <td>TV Show</td>\n      <td>Ganglands</td>\n      <td>Sami Bouajila, Tracy Gotoas, Samuel Jouy, Nabi...</td>\n      <td>NaN</td>\n      <td>2021</td>\n      <td>Crime TV Shows, International TV Shows, TV Act...</td>\n      <td>To protect his family from a powerful drug lor...</td>\n    </tr>\n    <tr>\n      <th>3</th>\n      <td>TV Show</td>\n      <td>Jailbirds New Orleans</td>\n      <td>NaN</td>\n      <td>NaN</td>\n      <td>2021</td>\n      <td>Docuseries, Reality TV</td>\n      <td>Feuds, flirtations and toilet talk go down amo...</td>\n    </tr>\n    <tr>\n      <th>4</th>\n      <td>TV Show</td>\n      <td>Kota Factory</td>\n      <td>Mayur More, Jitendra Kumar, Ranjan Raj, Alam K...</td>\n      <td>India</td>\n      <td>2021</td>\n      <td>International TV Shows, Romantic TV Shows, TV ...</td>\n      <td>In a city of coaching centers known to train I...</td>\n    </tr>\n    <tr>\n      <th>...</th>\n      <td>...</td>\n      <td>...</td>\n      <td>...</td>\n      <td>...</td>\n      <td>...</td>\n      <td>...</td>\n      <td>...</td>\n    </tr>\n    <tr>\n      <th>11054</th>\n      <td>TV Show</td>\n      <td>X-Men: Evolution</td>\n      <td>Noel Fisher, Vincent Gale, Christopher Judge, ...</td>\n      <td>United States</td>\n      <td>2000</td>\n      <td>Action-Adventure, Animation, Kids</td>\n      <td>X-Men: Evolution features the team as teenager...</td>\n    </tr>\n    <tr>\n      <th>11055</th>\n      <td>TV Show</td>\n      <td>Smart Guy</td>\n      <td>Tahj Mowry, John Jones, Jason Weaver, Essence ...</td>\n      <td>United States</td>\n      <td>1996</td>\n      <td>Comedy, Coming of Age, Kids</td>\n      <td>A genius tries to fit in as a high school soph...</td>\n    </tr>\n    <tr>\n      <th>11056</th>\n      <td>TV Show</td>\n      <td>Disney Kirby Buckets</td>\n      <td>Jacob Bertrand, Mekai Curtis, Cade Sutton, Oli...</td>\n      <td>United States</td>\n      <td>2014</td>\n      <td>Action-Adventure, Comedy, Coming of Age</td>\n      <td>Welcome to Kirby's world! It's rude and sketchy.</td>\n    </tr>\n    <tr>\n      <th>11057</th>\n      <td>TV Show</td>\n      <td>Disney Mech-X4</td>\n      <td>Nathaniel Potvin, Raymond Cham, Kamran Lucas, ...</td>\n      <td>Canada</td>\n      <td>2016</td>\n      <td>Action-Adventure, Comedy, Science Fiction</td>\n      <td>Ryan discovers his ability to control a giant ...</td>\n    </tr>\n    <tr>\n      <th>11058</th>\n      <td>TV Show</td>\n      <td>Imagination Movers</td>\n      <td>Rich Collins, Dave Poche, Scott Durbin, Scott ...</td>\n      <td>United States</td>\n      <td>2008</td>\n      <td>Kids, Music</td>\n      <td>Rock out with the Imagination Movers, Disney J...</td>\n    </tr>\n  </tbody>\n</table>\n<p>11059 rows × 7 columns</p>\n</div>"
     },
     "execution_count": 1,
     "metadata": {},
     "output_type": "execute_result"
    }
   ],
   "source": [
    "import pandas\n",
    "\n",
    "dataset = pandas.read_csv('dataset.csv')\n",
    "dataset"
   ],
   "metadata": {
    "collapsed": false,
    "pycharm": {
     "name": "#%%\n"
    }
   }
  },
  {
   "cell_type": "code",
   "execution_count": 2,
   "outputs": [
    {
     "name": "stdout",
     "output_type": "stream",
     "text": [
      "<class 'pandas.core.frame.DataFrame'>\n",
      "RangeIndex: 11059 entries, 0 to 11058\n",
      "Data columns (total 7 columns):\n",
      " #   Column        Non-Null Count  Dtype \n",
      "---  ------        --------------  ----- \n",
      " 0   type          11059 non-null  object\n",
      " 1   title         11059 non-null  object\n",
      " 2   cast          9694 non-null   object\n",
      " 3   country       8364 non-null   object\n",
      " 4   release_year  11059 non-null  int64 \n",
      " 5   listed_in     11059 non-null  object\n",
      " 6   description   11059 non-null  object\n",
      "dtypes: int64(1), object(6)\n",
      "memory usage: 345.7+ KB\n"
     ]
    }
   ],
   "source": [
    "dataset.info()"
   ],
   "metadata": {
    "collapsed": false,
    "pycharm": {
     "name": "#%%\n"
    }
   }
  },
  {
   "cell_type": "code",
   "execution_count": 3,
   "outputs": [
    {
     "data": {
      "text/plain": "type             0.000000\ntitle            0.000000\ncast            12.342888\ncountry         24.369292\nrelease_year     0.000000\nlisted_in        0.000000\ndescription      0.000000\ndtype: float64"
     },
     "execution_count": 3,
     "metadata": {},
     "output_type": "execute_result"
    }
   ],
   "source": [
    "(1 - (dataset.count() / len(dataset)))*100"
   ],
   "metadata": {
    "collapsed": false,
    "pycharm": {
     "name": "#%%\n"
    }
   }
  },
  {
   "cell_type": "code",
   "execution_count": 4,
   "outputs": [
    {
     "data": {
      "text/plain": "       release_year\ncount  11059.000000\nmean    2014.209603\nstd        8.959517\nmin     1925.000000\n25%     2013.000000\n50%     2017.000000\n75%     2019.000000\nmax     2021.000000",
      "text/html": "<div>\n<style scoped>\n    .dataframe tbody tr th:only-of-type {\n        vertical-align: middle;\n    }\n\n    .dataframe tbody tr th {\n        vertical-align: top;\n    }\n\n    .dataframe thead th {\n        text-align: right;\n    }\n</style>\n<table border=\"1\" class=\"dataframe\">\n  <thead>\n    <tr style=\"text-align: right;\">\n      <th></th>\n      <th>release_year</th>\n    </tr>\n  </thead>\n  <tbody>\n    <tr>\n      <th>count</th>\n      <td>11059.000000</td>\n    </tr>\n    <tr>\n      <th>mean</th>\n      <td>2014.209603</td>\n    </tr>\n    <tr>\n      <th>std</th>\n      <td>8.959517</td>\n    </tr>\n    <tr>\n      <th>min</th>\n      <td>1925.000000</td>\n    </tr>\n    <tr>\n      <th>25%</th>\n      <td>2013.000000</td>\n    </tr>\n    <tr>\n      <th>50%</th>\n      <td>2017.000000</td>\n    </tr>\n    <tr>\n      <th>75%</th>\n      <td>2019.000000</td>\n    </tr>\n    <tr>\n      <th>max</th>\n      <td>2021.000000</td>\n    </tr>\n  </tbody>\n</table>\n</div>"
     },
     "execution_count": 4,
     "metadata": {},
     "output_type": "execute_result"
    }
   ],
   "source": [
    "dataset.describe()"
   ],
   "metadata": {
    "collapsed": false,
    "pycharm": {
     "name": "#%%\n"
    }
   }
  }
 ],
 "metadata": {
  "kernelspec": {
   "display_name": "Python 3",
   "language": "python",
   "name": "python3"
  },
  "language_info": {
   "codemirror_mode": {
    "name": "ipython",
    "version": 2
   },
   "file_extension": ".py",
   "mimetype": "text/x-python",
   "name": "python",
   "nbconvert_exporter": "python",
   "pygments_lexer": "ipython2",
   "version": "2.7.6"
  }
 },
 "nbformat": 4,
 "nbformat_minor": 0
}